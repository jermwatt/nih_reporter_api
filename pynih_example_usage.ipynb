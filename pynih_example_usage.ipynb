{
  "cells": [
    {
      "cell_type": "markdown",
      "metadata": {
        "id": "view-in-github",
        "colab_type": "text"
      },
      "source": [
        "<a href=\"https://colab.research.google.com/github/jermwatt/pynih/blob/main/pynih_example_usage.ipynb\" target=\"_parent\"><img src=\"https://colab.research.google.com/assets/colab-badge.svg\" alt=\"Open In Colab\"/></a>"
      ]
    },
    {
      "cell_type": "code",
      "execution_count": 1,
      "metadata": {
        "id": "lLtGPoRp7_l0",
        "outputId": "d71a20e7-0648-46ea-f721-8897ef0afadc",
        "colab": {
          "base_uri": "https://localhost:8080/"
        }
      },
      "outputs": [
        {
          "output_type": "stream",
          "name": "stdout",
          "text": [
            "Looking in indexes: https://pypi.org/simple, https://us-python.pkg.dev/colab-wheels/public/simple/\n",
            "Collecting pynih\n",
            "  Downloading pynih-0.1.2-py3-none-any.whl (3.2 kB)\n",
            "Collecting requests<3.0.0,>=2.28.2\n",
            "  Downloading requests-2.28.2-py3-none-any.whl (62 kB)\n",
            "\u001b[2K     \u001b[90m━━━━━━━━━━━━━━━━━━━━━━━━━━━━━━━━━━━━━━━━\u001b[0m \u001b[32m62.8/62.8 kB\u001b[0m \u001b[31m4.0 MB/s\u001b[0m eta \u001b[36m0:00:00\u001b[0m\n",
            "\u001b[?25hRequirement already satisfied: idna<4,>=2.5 in /usr/local/lib/python3.9/dist-packages (from requests<3.0.0,>=2.28.2->pynih) (3.4)\n",
            "Requirement already satisfied: urllib3<1.27,>=1.21.1 in /usr/local/lib/python3.9/dist-packages (from requests<3.0.0,>=2.28.2->pynih) (1.26.15)\n",
            "Requirement already satisfied: certifi>=2017.4.17 in /usr/local/lib/python3.9/dist-packages (from requests<3.0.0,>=2.28.2->pynih) (2022.12.7)\n",
            "Requirement already satisfied: charset-normalizer<4,>=2 in /usr/local/lib/python3.9/dist-packages (from requests<3.0.0,>=2.28.2->pynih) (2.0.12)\n",
            "Installing collected packages: requests, pynih\n",
            "  Attempting uninstall: requests\n",
            "    Found existing installation: requests 2.27.1\n",
            "    Uninstalling requests-2.27.1:\n",
            "      Successfully uninstalled requests-2.27.1\n",
            "Successfully installed pynih-0.1.2 requests-2.28.2\n"
          ]
        }
      ],
      "source": [
        "# install pynih with pip\n",
        "!pip install pynih"
      ]
    },
    {
      "cell_type": "code",
      "execution_count": 2,
      "metadata": {
        "id": "mTC2IDzs7_l1",
        "outputId": "3b8c4dd7-aa34-4fe0-f948-22b353b534a5",
        "colab": {
          "base_uri": "https://localhost:8080/"
        }
      },
      "outputs": [
        {
          "output_type": "stream",
          "name": "stdout",
          "text": [
            "project example: [{'appl_id': 9795459, 'project_title': 'Evaluating Whether a Concurrent Retinoid X Receptor Agonist can Enhance the Efficacy of the HER2-IGFPB2-IGF1R Vaccine in Eliminating Existing Ductal Carcinoma in Situ and Preventing Progression of Inv'}]\n",
            "publication example: [{'coreproject': 'ZIKDE000726', 'pmid': 26657764, 'applid': 10491636}]\n"
          ]
        }
      ],
      "source": [
        "from pynih import apis\n",
        "\n",
        "# illustration of project api usage\n",
        "search_criteria = {'appl_id':'9795459'}\n",
        "include_fields = ['ApplId', 'ProjectTitle']\n",
        "data = apis.query_project_api(include_fields=include_fields, search_criteria=search_criteria)\n",
        "print(f'project example: {data}')\n",
        "\n",
        "# illustration of publication api usage\n",
        "search_criteria = {'pmid':'26657764'}\n",
        "data = apis.query_publication_api(search_criteria=search_criteria)\n",
        "print(f'publication example: {data}')"
      ]
    }
  ],
  "metadata": {
    "kernelspec": {
      "display_name": "Python 3",
      "language": "python",
      "name": "python3"
    },
    "language_info": {
      "codemirror_mode": {
        "name": "ipython",
        "version": 3
      },
      "file_extension": ".py",
      "mimetype": "text/x-python",
      "name": "python",
      "nbconvert_exporter": "python",
      "pygments_lexer": "ipython3",
      "version": "3.10.4"
    },
    "orig_nbformat": 4,
    "colab": {
      "provenance": [],
      "include_colab_link": true
    }
  },
  "nbformat": 4,
  "nbformat_minor": 0
}