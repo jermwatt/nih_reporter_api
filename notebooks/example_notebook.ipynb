{
 "cells": [
  {
   "cell_type": "code",
   "execution_count": 32,
   "metadata": {},
   "outputs": [],
   "source": [
    "import requests, time\n",
    "from requests.exceptions import RequestException\n",
    "from typing import Dict, List\n",
    "\n",
    "# function to make POST request with retries\n",
    "def retry_post_request(url: str, \n",
    "                       params: Dict, \n",
    "                       max_retries:int=5, \n",
    "                       retry_delay:int=10, \n",
    "                       timeout: int=45)->List[Dict]:\n",
    "    \n",
    "    # make request with retries\n",
    "    for retry_count in range(max_retries):\n",
    "        try:\n",
    "            # make request\n",
    "            response = requests.post(url, json=params, timeout=timeout)\n",
    "            \n",
    "            # check status code - else return data\n",
    "            if response.status_code >= 400 and response.status_code < 500:\n",
    "                print(f\"Bad request: {response.text}\")\n",
    "                if retry_count < max_retries - 1:\n",
    "                    print(f\"Retrying after {retry_delay} seconds...\")\n",
    "                    time.sleep(retry_delay)\n",
    "                else: \n",
    "                    raise Exception(f\"Failed to complete POST request after {max_retries} attempts\")\n",
    "            else:\n",
    "                data = response.json()['results']\n",
    "                return data\n",
    "        except RequestException as e:\n",
    "            print(f\"POST request failed: {e}\")\n",
    "            if retry_count < max_retries - 1:\n",
    "                print(f\"Retrying after {retry_delay} seconds...\")\n",
    "                time.sleep(retry_delay)\n",
    "    raise Exception(f\"Failed to complete POST request after {max_retries} attempts\")\n",
    "\n",
    "\n",
    "# function to collect data from NIH Reporter API (projects)\n",
    "def query_project_api(include_fields: List[str]=None,\n",
    "                criteria: Dict[str, str]={},\n",
    "                limit: int=1,\n",
    "                offset: int=0)->List[Dict]:\n",
    "    \n",
    "    # Set up API request parameters\n",
    "    endpoint_url = 'https://api.reporter.nih.gov/v2/projects/search'\n",
    "\n",
    "    # package up params\n",
    "    params = { \n",
    "                'criteria': criteria, \n",
    "                'limit': limit, \n",
    "                'offset':offset\n",
    "                }\n",
    "    if include_fields is not None:\n",
    "        params['include_fields'] = include_fields\n",
    "        \n",
    "    # Make API request and retrieve JSON response\n",
    "    data = retry_post_request(endpoint_url, params)\n",
    "    \n",
    "    # If there are no more pages of results, break out of loop\n",
    "    if data is None:\n",
    "        print(\"No results found\")\n",
    "        return None\n",
    "    return data\n",
    "\n",
    "\n",
    "# function to collect data from NIH Reporter API (projects)\n",
    "def query_publication_api(criteria: Dict[str, str]={},\n",
    "                    limit: int=1,\n",
    "                    offset: int=0)->List[Dict]:\n",
    "    \n",
    "    # Set up API request parameters\n",
    "    endpoint_url = 'https://api.reporter.nih.gov/v2/publications/search'\n",
    "\n",
    "    # package up params\n",
    "    params = { \n",
    "                'criteria': criteria, \n",
    "                'limit': limit, \n",
    "                'offset':offset\n",
    "                }\n",
    "\n",
    "    # Make API request and retrieve JSON response\n",
    "    data = retry_post_request(endpoint_url, params)\n",
    "    \n",
    "    # If there are no more pages of results, break out of loop\n",
    "    if data is None:\n",
    "        print(\"No results found\")\n",
    "        return None\n",
    "    return data"
   ]
  },
  {
   "cell_type": "code",
   "execution_count": 41,
   "metadata": {},
   "outputs": [],
   "source": [
    "search_criteria = {'appl_id':'9795459'}\n",
    "include_fields = ['ApplId', 'ProjectTitle', 'ProjectStart', 'Project']\n",
    "project_datapoint = query_project_api(include_fields=include_fields,criteria=search_criteria)"
   ]
  },
  {
   "cell_type": "code",
   "execution_count": 42,
   "metadata": {},
   "outputs": [
    {
     "data": {
      "text/plain": [
       "[{'appl_id': 9795459,\n",
       "  'project_title': 'Evaluating Whether a Concurrent Retinoid X Receptor Agonist can Enhance the Efficacy of the HER2-IGFPB2-IGF1R Vaccine in Eliminating Existing Ductal Carcinoma in Situ and Preventing Progression of Inv'}]"
      ]
     },
     "execution_count": 42,
     "metadata": {},
     "output_type": "execute_result"
    }
   ],
   "source": [
    "project_datapoint"
   ]
  },
  {
   "cell_type": "code",
   "execution_count": 22,
   "metadata": {},
   "outputs": [
    {
     "data": {
      "text/plain": [
       "[{'coreproject': 'ZIKDE000726', 'pmid': 26657764, 'applid': 10491636}]"
      ]
     },
     "execution_count": 22,
     "metadata": {},
     "output_type": "execute_result"
    }
   ],
   "source": [
    "publication_api()"
   ]
  }
 ],
 "metadata": {
  "kernelspec": {
   "display_name": ".venv",
   "language": "python",
   "name": "python3"
  },
  "language_info": {
   "codemirror_mode": {
    "name": "ipython",
    "version": 3
   },
   "file_extension": ".py",
   "mimetype": "text/x-python",
   "name": "python",
   "nbconvert_exporter": "python",
   "pygments_lexer": "ipython3",
   "version": "3.9.1"
  },
  "orig_nbformat": 4
 },
 "nbformat": 4,
 "nbformat_minor": 2
}
